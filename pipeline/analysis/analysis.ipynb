{
 "cells": [
  {
   "cell_type": "code",
   "execution_count": 36,
   "metadata": {},
   "outputs": [],
   "source": [
    "import pandas as pd\n",
    "import numpy as np\n",
    "from sklearn.model_selection import train_test_split\n",
    "from sklearn.pipeline import Pipeline\n",
    "from sklearn.impute import SimpleImputer\n",
    "from sklearn.preprocessing import StandardScaler, OneHotEncoder, OrdinalEncoder\n",
    "from sklearn.compose import ColumnTransformer\n",
    "from sklearn.ensemble import RandomForestClassifier\n",
    "from sklearn.model_selection import GridSearchCV\n",
    "import category_encoders as ce\n",
    "import matplotlib.pyplot as plt\n",
    "from sklearn.metrics import classification_report"
   ]
  },
  {
   "cell_type": "code",
   "execution_count": 2,
   "metadata": {},
   "outputs": [],
   "source": [
    "train = pd.read_csv('../input_data/airline_delay_train.csv')\n",
    "test = pd.read_csv('../input_data/airline_delay_test.csv')"
   ]
  },
  {
   "cell_type": "code",
   "execution_count": 3,
   "metadata": {},
   "outputs": [],
   "source": [
    "def feature_engg(df):\n",
    "    \n",
    "    df['FlightDate'] = pd.to_datetime(df['FlightDate'])\n",
    "    df['year'] = pd.DatetimeIndex(df['FlightDate']).year.astype('category')\n",
    "    df['month'] = pd.DatetimeIndex(df['FlightDate']).month.astype('category')\n",
    "    df['day'] = pd.DatetimeIndex(df['FlightDate']).day.astype('category')\n",
    "    df['hour'] = pd.to_datetime(df['DepTime'], format='%H:%M').dt.hour.astype('category')\n",
    "    df['minutes'] = pd.to_datetime(df['DepTime'], format='%H:%M').dt.minute.astype('category')\n",
    "    df['DepTime'] = pd.to_datetime(df['DepTime'], format='%H:%M').dt.time\n",
    "    \n",
    "    return df"
   ]
  },
  {
   "cell_type": "code",
   "execution_count": 4,
   "metadata": {
    "scrolled": true
   },
   "outputs": [],
   "source": [
    "train = feature_engg(train)"
   ]
  },
  {
   "cell_type": "code",
   "execution_count": 27,
   "metadata": {},
   "outputs": [
    {
     "data": {
      "text/plain": [
       "<matplotlib.axes._subplots.AxesSubplot at 0x1a27bde750>"
      ]
     },
     "execution_count": 27,
     "metadata": {},
     "output_type": "execute_result"
    },
    {
     "data": {
      "image/png": "[encoded data removed]",
      "text/plain": [
       "<Figure size 432x288 with 1 Axes>"
      ]
     },
     "metadata": {
      "needs_background": "light"
     },
     "output_type": "display_data"
    }
   ],
   "source": [
    "train.groupby(['day'])['dep_delayed_15min'].agg('mean').plot(kind = 'bar')\n"
   ]
  },
  {
   "cell_type": "code",
   "execution_count": 23,
   "metadata": {},
   "outputs": [
    {
     "data": {
      "text/plain": [
       "<matplotlib.axes._subplots.AxesSubplot at 0x1a2fb97e90>"
      ]
     },
     "execution_count": 23,
     "metadata": {},
     "output_type": "execute_result"
    },
    {
     "data": {
      "image/png": "[encoded data removed]",
      "text/plain": [
       "<Figure size 432x288 with 1 Axes>"
      ]
     },
     "metadata": {
      "needs_background": "light"
     },
     "output_type": "display_data"
    }
   ],
   "source": [
    "train.groupby(['hour'])['dep_delayed_15min'].agg('mean').plot(kind = 'bar')\n"
   ]
  },
  {
   "cell_type": "code",
   "execution_count": 5,
   "metadata": {},
   "outputs": [],
   "source": [
    "test = feature_engg(test)"
   ]
  },
  {
   "cell_type": "code",
   "execution_count": 6,
   "metadata": {},
   "outputs": [],
   "source": [
    "def split_df(df):\n",
    "    \n",
    "    X = df.drop('dep_delayed_15min', axis=1)\n",
    "    y = df['dep_delayed_15min']\n",
    "\n",
    "    return X, y"
   ]
  },
  {
   "cell_type": "code",
   "execution_count": 7,
   "metadata": {},
   "outputs": [],
   "source": [
    "X, y = split_df(train)"
   ]
  },
  {
   "cell_type": "code",
   "execution_count": 8,
   "metadata": {},
   "outputs": [],
   "source": [
    "X_train, X_validation, y_train, y_validation = train_test_split(X, y, test_size=0.2)"
   ]
  },
  {
   "cell_type": "code",
   "execution_count": 9,
   "metadata": {},
   "outputs": [],
   "source": [
    "numeric_transformer = Pipeline(steps=[\n",
    "    ('imputer', SimpleImputer(strategy='median')),\n",
    "    ('scaler', StandardScaler())])\n",
    "categorical_transformer = Pipeline(steps=[\n",
    "    ('imputer', SimpleImputer(strategy='constant', fill_value='missing')),\n",
    "    ('ordinal', ce.OrdinalEncoder())])\n",
    "\n",
    "preprocessor = ColumnTransformer(\n",
    "    transformers=[\n",
    "        ('num', numeric_transformer, ['Distance']),\n",
    "        ('cat', categorical_transformer, ['UniqueCarrier', 'Origin', 'Dest', 'Day_of_Week','year', 'month', 'day', 'hour', 'minutes'])])\n",
    "\n",
    "rf = Pipeline(steps=[('preprocessor', preprocessor),\n",
    "                      ('classifier', RandomForestClassifier())])\n",
    "\n",
    "param_grid = {'classifier__n_estimators': [400]}"
   ]
  },
  {
   "cell_type": "code",
   "execution_count": 10,
   "metadata": {
    "scrolled": true
   },
   "outputs": [
    {
     "name": "stdout",
     "output_type": "stream",
     "text": [
      "{'cv': None, 'error_score': nan, 'estimator__memory': None, 'estimator__steps': [('preprocessor', ColumnTransformer(transformers=[('num',\n",
      "                                 Pipeline(steps=[('imputer',\n",
      "                                                  SimpleImputer(strategy='median')),\n",
      "                                                 ('scaler', StandardScaler())]),\n",
      "                                 ['Distance']),\n",
      "                                ('cat',\n",
      "                                 Pipeline(steps=[('imputer',\n",
      "                                                  SimpleImputer(fill_value='missing',\n",
      "                                                                strategy='constant')),\n",
      "                                                 ('ordinal',\n",
      "                                                  OrdinalEncoder())]),\n",
      "                                 ['UniqueCarrier', 'Origin', 'Dest',\n",
      "                                  'Day_of_Week', 'year', 'month', 'day', 'hour',\n",
      "                                  'minutes'])])), ('classifier', RandomForestClassifier())], 'estimator__verbose': False, 'estimator__preprocessor': ColumnTransformer(transformers=[('num',\n",
      "                                 Pipeline(steps=[('imputer',\n",
      "                                                  SimpleImputer(strategy='median')),\n",
      "                                                 ('scaler', StandardScaler())]),\n",
      "                                 ['Distance']),\n",
      "                                ('cat',\n",
      "                                 Pipeline(steps=[('imputer',\n",
      "                                                  SimpleImputer(fill_value='missing',\n",
      "                                                                strategy='constant')),\n",
      "                                                 ('ordinal',\n",
      "                                                  OrdinalEncoder())]),\n",
      "                                 ['UniqueCarrier', 'Origin', 'Dest',\n",
      "                                  'Day_of_Week', 'year', 'month', 'day', 'hour',\n",
      "                                  'minutes'])]), 'estimator__classifier': RandomForestClassifier(), 'estimator__preprocessor__n_jobs': None, 'estimator__preprocessor__remainder': 'drop', 'estimator__preprocessor__sparse_threshold': 0.3, 'estimator__preprocessor__transformer_weights': None, 'estimator__preprocessor__transformers': [('num', Pipeline(steps=[('imputer', SimpleImputer(strategy='median')),\n",
      "                ('scaler', StandardScaler())]), ['Distance']), ('cat', Pipeline(steps=[('imputer',\n",
      "                 SimpleImputer(fill_value='missing', strategy='constant')),\n",
      "                ('ordinal', OrdinalEncoder())]), ['UniqueCarrier', 'Origin', 'Dest', 'Day_of_Week', 'year', 'month', 'day', 'hour', 'minutes'])], 'estimator__preprocessor__verbose': False, 'estimator__preprocessor__num': Pipeline(steps=[('imputer', SimpleImputer(strategy='median')),\n",
      "                ('scaler', StandardScaler())]), 'estimator__preprocessor__cat': Pipeline(steps=[('imputer',\n",
      "                 SimpleImputer(fill_value='missing', strategy='constant')),\n",
      "                ('ordinal', OrdinalEncoder())]), 'estimator__preprocessor__num__memory': None, 'estimator__preprocessor__num__steps': [('imputer', SimpleImputer(strategy='median')), ('scaler', StandardScaler())], 'estimator__preprocessor__num__verbose': False, 'estimator__preprocessor__num__imputer': SimpleImputer(strategy='median'), 'estimator__preprocessor__num__scaler': StandardScaler(), 'estimator__preprocessor__num__imputer__add_indicator': False, 'estimator__preprocessor__num__imputer__copy': True, 'estimator__preprocessor__num__imputer__fill_value': None, 'estimator__preprocessor__num__imputer__missing_values': nan, 'estimator__preprocessor__num__imputer__strategy': 'median', 'estimator__preprocessor__num__imputer__verbose': 0, 'estimator__preprocessor__num__scaler__copy': True, 'estimator__preprocessor__num__scaler__with_mean': True, 'estimator__preprocessor__num__scaler__with_std': True, 'estimator__preprocessor__cat__memory': None, 'estimator__preprocessor__cat__steps': [('imputer', SimpleImputer(fill_value='missing', strategy='constant')), ('ordinal', OrdinalEncoder())], 'estimator__preprocessor__cat__verbose': False, 'estimator__preprocessor__cat__imputer': SimpleImputer(fill_value='missing', strategy='constant'), 'estimator__preprocessor__cat__ordinal': OrdinalEncoder(), 'estimator__preprocessor__cat__imputer__add_indicator': False, 'estimator__preprocessor__cat__imputer__copy': True, 'estimator__preprocessor__cat__imputer__fill_value': 'missing', 'estimator__preprocessor__cat__imputer__missing_values': nan, 'estimator__preprocessor__cat__imputer__strategy': 'constant', 'estimator__preprocessor__cat__imputer__verbose': 0, 'estimator__preprocessor__cat__ordinal__cols': None, 'estimator__preprocessor__cat__ordinal__drop_invariant': False, 'estimator__preprocessor__cat__ordinal__handle_missing': 'value', 'estimator__preprocessor__cat__ordinal__handle_unknown': 'value', 'estimator__preprocessor__cat__ordinal__mapping': None, 'estimator__preprocessor__cat__ordinal__return_df': True, 'estimator__preprocessor__cat__ordinal__verbose': 0, 'estimator__classifier__bootstrap': True, 'estimator__classifier__ccp_alpha': 0.0, 'estimator__classifier__class_weight': None, 'estimator__classifier__criterion': 'gini', 'estimator__classifier__max_depth': None, 'estimator__classifier__max_features': 'auto', 'estimator__classifier__max_leaf_nodes': None, 'estimator__classifier__max_samples': None, 'estimator__classifier__min_impurity_decrease': 0.0, 'estimator__classifier__min_impurity_split': None, 'estimator__classifier__min_samples_leaf': 1, 'estimator__classifier__min_samples_split': 2, 'estimator__classifier__min_weight_fraction_leaf': 0.0, 'estimator__classifier__n_estimators': 100, 'estimator__classifier__n_jobs': None, 'estimator__classifier__oob_score': False, 'estimator__classifier__random_state': None, 'estimator__classifier__verbose': 0, 'estimator__classifier__warm_start': False, 'estimator': Pipeline(steps=[('preprocessor',\n",
      "                 ColumnTransformer(transformers=[('num',\n",
      "                                                  Pipeline(steps=[('imputer',\n",
      "                                                                   SimpleImputer(strategy='median')),\n",
      "                                                                  ('scaler',\n",
      "                                                                   StandardScaler())]),\n",
      "                                                  ['Distance']),\n",
      "                                                 ('cat',\n",
      "                                                  Pipeline(steps=[('imputer',\n",
      "                                                                   SimpleImputer(fill_value='missing',\n",
      "                                                                                 strategy='constant')),\n",
      "                                                                  ('ordinal',\n",
      "                                                                   OrdinalEncoder())]),\n",
      "                                                  ['UniqueCarrier', 'Origin',\n",
      "                                                   'Dest', 'Day_of_Week',\n",
      "                                                   'year', 'month', 'day',\n",
      "                                                   'hour', 'minutes'])])),\n",
      "                ('classifier', RandomForestClassifier())]), 'iid': 'deprecated', 'n_jobs': -1, 'param_grid': {'classifier__n_estimators': [400]}, 'pre_dispatch': '2*n_jobs', 'refit': True, 'return_train_score': False, 'scoring': 'roc_auc', 'verbose': 0}\n",
      "{'classifier__n_estimators': 400}\n",
      "0.7385227111371396\n"
     ]
    }
   ],
   "source": [
    "CV = GridSearchCV(rf, param_grid, n_jobs= -1,scoring='roc_auc')\n",
    "CV.fit(X_train, y_train)  \n",
    "print(CV.get_params())\n",
    "print(CV.best_params_)    \n",
    "print(\"{}{}\".format(\"Cross - Validation: \", CV.best_score_))"
   ]
  },
  {
   "cell_type": "code",
   "execution_count": 13,
   "metadata": {},
   "outputs": [
    {
     "name": "stdout",
     "output_type": "stream",
     "text": [
      "Validation: 0.7465015035542334\n",
      "Holdout: 0.7475145815734953\n"
     ]
    }
   ],
   "source": [
    "#print(CV.score(X_validation,y_validation))\n",
    "print(\"{}{}\".format(\"Validation: \", CV.score(X_validation,y_validation)))\n",
    "\n",
    "X, y = split_df(test)\n",
    "print(\"{}{}\".format(\"Holdout: \", CV.score(X,y)))\n",
    "#print(CV.score(X,y))"
   ]
  },
  {
   "cell_type": "code",
   "execution_count": 1,
   "metadata": {
    "scrolled": true
   },
   "outputs": [
    {
     "ename": "NameError",
     "evalue": "name 'y_validation' is not defined",
     "output_type": "error",
     "traceback": [
      "\u001b[0;31m---------------------------------------------------------------------------\u001b[0m",
      "\u001b[0;31mNameError\u001b[0m                                 Traceback (most recent call last)",
      "\u001b[0;32m<ipython-input-1-7596f9be33cc>\u001b[0m in \u001b[0;36m<module>\u001b[0;34m\u001b[0m\n\u001b[0;32m----> 1\u001b[0;31m \u001b[0mtarget_names\u001b[0m \u001b[0;34m=\u001b[0m \u001b[0my_validation\u001b[0m\u001b[0;34m.\u001b[0m\u001b[0munique\u001b[0m\u001b[0;34m(\u001b[0m\u001b[0;34m)\u001b[0m\u001b[0;34m.\u001b[0m\u001b[0mastype\u001b[0m\u001b[0;34m(\u001b[0m\u001b[0mstr\u001b[0m\u001b[0;34m)\u001b[0m\u001b[0;34m\u001b[0m\u001b[0;34m\u001b[0m\u001b[0m\n\u001b[0m\u001b[1;32m      2\u001b[0m \u001b[0my_pred\u001b[0m \u001b[0;34m=\u001b[0m \u001b[0mCV\u001b[0m\u001b[0;34m.\u001b[0m\u001b[0mpredict\u001b[0m\u001b[0;34m(\u001b[0m\u001b[0mX_validation\u001b[0m\u001b[0;34m)\u001b[0m\u001b[0;34m\u001b[0m\u001b[0;34m\u001b[0m\u001b[0m\n\u001b[1;32m      3\u001b[0m \u001b[0mprint\u001b[0m\u001b[0;34m(\u001b[0m\u001b[0mclassification_report\u001b[0m\u001b[0;34m(\u001b[0m\u001b[0my_validation\u001b[0m\u001b[0;34m,\u001b[0m \u001b[0my_pred\u001b[0m\u001b[0;34m,\u001b[0m \u001b[0mtarget_names\u001b[0m\u001b[0;34m=\u001b[0m\u001b[0mtarget_names\u001b[0m\u001b[0;34m)\u001b[0m\u001b[0;34m)\u001b[0m\u001b[0;34m\u001b[0m\u001b[0;34m\u001b[0m\u001b[0m\n",
      "\u001b[0;31mNameError\u001b[0m: name 'y_validation' is not defined"
     ]
    }
   ],
   "source": [
    "target_names = y_validation.unique().astype(str)\n",
    "y_pred = CV.predict(X_validation)\n",
    "print(classification_report(y_validation, y_pred, target_names=target_names))"
   ]
  },
  {
   "cell_type": "code",
   "execution_count": null,
   "metadata": {},
   "outputs": [],
   "source": []
  }
 ],
 "metadata": {
  "kernelspec": {
   "display_name": "Python 3",
   "language": "python",
   "name": "python3"
  },
  "language_info": {
   "codemirror_mode": {
    "name": "ipython",
    "version": 3
   },
   "file_extension": ".py",
   "mimetype": "text/x-python",
   "name": "python",
   "nbconvert_exporter": "python",
   "pygments_lexer": "ipython3",
   "version": "3.7.4"
  }
 },
 "nbformat": 4,
 "nbformat_minor": 2
}
